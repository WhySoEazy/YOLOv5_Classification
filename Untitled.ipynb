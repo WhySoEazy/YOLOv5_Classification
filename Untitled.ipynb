{
  "nbformat": 4,
  "nbformat_minor": 0,
  "metadata": {
    "colab": {
      "provenance": [],
      "gpuType": "T4",
      "authorship_tag": "ABX9TyPSQ/sBDD+k+nGdCT+c50GM",
      "include_colab_link": true
    },
    "kernelspec": {
      "name": "python3",
      "display_name": "Python 3"
    },
    "language_info": {
      "name": "python"
    },
    "accelerator": "GPU"
  },
  "cells": [
    {
      "cell_type": "markdown",
      "metadata": {
        "id": "view-in-github",
        "colab_type": "text"
      },
      "source": [
        "<a href=\"https://colab.research.google.com/github/WhySoEazy/YOLOv5_Classification/blob/main/Untitled.ipynb\" target=\"_parent\"><img src=\"https://colab.research.google.com/assets/colab-badge.svg\" alt=\"Open In Colab\"/></a>"
      ]
    },
    {
      "cell_type": "code",
      "execution_count": null,
      "metadata": {
        "colab": {
          "base_uri": "https://localhost:8080/"
        },
        "id": "v394N_sJD6zA",
        "outputId": "90c09cb5-226d-49fa-af49-388e6abbc8b9"
      },
      "outputs": [
        {
          "output_type": "stream",
          "name": "stderr",
          "text": [
            "YOLOv5 🚀 v7.0-290-gb2ffe055 Python-3.10.12 torch-2.1.0+cu121 CPU\n"
          ]
        },
        {
          "output_type": "stream",
          "name": "stdout",
          "text": [
            "Setup complete ✅ (2 CPUs, 12.7 GB RAM, 26.4/107.7 GB disk)\n"
          ]
        }
      ],
      "source": [
        "!git clone https://github.com/ultralytics/yolov5\n",
        "%cd yolov5\n",
        "%pip install -qr requirements.txt\n",
        "\n",
        "import torch\n",
        "import utils\n",
        "display = utils.notebook_init()"
      ]
    },
    {
      "cell_type": "code",
      "source": [
        "from utils.downloads import attempt_download\n",
        "\n",
        "p5 = ['n', 's', 'm', 'l', 'x']  # P5 models\n",
        "cls = [f'{x}-cls' for x in p5]  # classification models\n",
        "\n",
        "for x in cls:\n",
        "    attempt_download(f'weights/yolov5{x}.pt')"
      ],
      "metadata": {
        "colab": {
          "base_uri": "https://localhost:8080/"
        },
        "id": "-TCzGXL2EIZ2",
        "outputId": "1d780663-67c2-4e76-f468-6e2b8c138bb7"
      },
      "execution_count": null,
      "outputs": [
        {
          "output_type": "stream",
          "name": "stderr",
          "text": [
            "Downloading https://github.com/ultralytics/yolov5/releases/download/v7.0/yolov5n-cls.pt to weights/yolov5n-cls.pt...\n",
            "100%|██████████| 4.87M/4.87M [00:00<00:00, 159MB/s]\n",
            "\n",
            "Downloading https://github.com/ultralytics/yolov5/releases/download/v7.0/yolov5s-cls.pt to weights/yolov5s-cls.pt...\n",
            "100%|██████████| 10.5M/10.5M [00:00<00:00, 204MB/s]\n",
            "\n",
            "Downloading https://github.com/ultralytics/yolov5/releases/download/v7.0/yolov5m-cls.pt to weights/yolov5m-cls.pt...\n",
            "100%|██████████| 24.9M/24.9M [00:00<00:00, 218MB/s]\n",
            "\n",
            "Downloading https://github.com/ultralytics/yolov5/releases/download/v7.0/yolov5l-cls.pt to weights/yolov5l-cls.pt...\n",
            "100%|██████████| 50.9M/50.9M [00:00<00:00, 214MB/s]\n",
            "\n",
            "Downloading https://github.com/ultralytics/yolov5/releases/download/v7.0/yolov5x-cls.pt to weights/yolov5x-cls.pt...\n",
            "100%|██████████| 92.0M/92.0M [00:00<00:00, 149MB/s]\n",
            "\n"
          ]
        }
      ]
    },
    {
      "cell_type": "code",
      "source": [
        "import os\n",
        "os.makedirs(\"../datasets/\", exist_ok=True)\n",
        "%cd ../datasets/"
      ],
      "metadata": {
        "colab": {
          "base_uri": "https://localhost:8080/"
        },
        "id": "31qJJuHIEPk2",
        "outputId": "a500387f-dec1-4022-9530-f1c6f1c24f0c"
      },
      "execution_count": null,
      "outputs": [
        {
          "output_type": "stream",
          "name": "stdout",
          "text": [
            "/content/datasets\n"
          ]
        }
      ]
    },
    {
      "cell_type": "code",
      "source": [
        "!pip install roboflow\n",
        "\n",
        "from roboflow import Roboflow\n",
        "rf = Roboflow(api_key=\"Rig4Wm7yMAhBIHmqxQIR\")\n",
        "project = rf.workspace(\"supermarketproductdetection\").project(\"product_classification-b0ygy\")\n",
        "version = project.version(2)\n",
        "dataset = version.download(\"folder\")"
      ],
      "metadata": {
        "colab": {
          "base_uri": "https://localhost:8080/",
          "height": 1000
        },
        "id": "763NzogfEX6Y",
        "outputId": "b3930454-4813-42db-91f6-6f7292bbd3cf"
      },
      "execution_count": null,
      "outputs": [
        {
          "output_type": "stream",
          "name": "stdout",
          "text": [
            "Collecting roboflow\n",
            "  Downloading roboflow-1.1.21-py3-none-any.whl (70 kB)\n",
            "\u001b[2K     \u001b[90m━━━━━━━━━━━━━━━━━━━━━━━━━━━━━━━━━━━━━━━━\u001b[0m \u001b[32m70.2/70.2 kB\u001b[0m \u001b[31m1.4 MB/s\u001b[0m eta \u001b[36m0:00:00\u001b[0m\n",
            "\u001b[?25hCollecting certifi==2023.7.22 (from roboflow)\n",
            "  Downloading certifi-2023.7.22-py3-none-any.whl (158 kB)\n",
            "\u001b[2K     \u001b[90m━━━━━━━━━━━━━━━━━━━━━━━━━━━━━━━━━━━━━━━━\u001b[0m \u001b[32m158.3/158.3 kB\u001b[0m \u001b[31m8.0 MB/s\u001b[0m eta \u001b[36m0:00:00\u001b[0m\n",
            "\u001b[?25hCollecting chardet==4.0.0 (from roboflow)\n",
            "  Downloading chardet-4.0.0-py2.py3-none-any.whl (178 kB)\n",
            "\u001b[2K     \u001b[90m━━━━━━━━━━━━━━━━━━━━━━━━━━━━━━━━━━━━━━━━\u001b[0m \u001b[32m178.7/178.7 kB\u001b[0m \u001b[31m21.4 MB/s\u001b[0m eta \u001b[36m0:00:00\u001b[0m\n",
            "\u001b[?25hCollecting cycler==0.10.0 (from roboflow)\n",
            "  Downloading cycler-0.10.0-py2.py3-none-any.whl (6.5 kB)\n",
            "Collecting idna==2.10 (from roboflow)\n",
            "  Downloading idna-2.10-py2.py3-none-any.whl (58 kB)\n",
            "\u001b[2K     \u001b[90m━━━━━━━━━━━━━━━━━━━━━━━━━━━━━━━━━━━━━━━━\u001b[0m \u001b[32m58.8/58.8 kB\u001b[0m \u001b[31m7.7 MB/s\u001b[0m eta \u001b[36m0:00:00\u001b[0m\n",
            "\u001b[?25hRequirement already satisfied: kiwisolver>=1.3.1 in /usr/local/lib/python3.10/dist-packages (from roboflow) (1.4.5)\n",
            "Requirement already satisfied: matplotlib in /usr/local/lib/python3.10/dist-packages (from roboflow) (3.7.1)\n",
            "Requirement already satisfied: numpy>=1.18.5 in /usr/local/lib/python3.10/dist-packages (from roboflow) (1.25.2)\n",
            "Collecting opencv-python-headless==4.8.0.74 (from roboflow)\n",
            "  Downloading opencv_python_headless-4.8.0.74-cp37-abi3-manylinux_2_17_x86_64.manylinux2014_x86_64.whl (49.1 MB)\n",
            "\u001b[2K     \u001b[90m━━━━━━━━━━━━━━━━━━━━━━━━━━━━━━━━━━━━━━━━\u001b[0m \u001b[32m49.1/49.1 MB\u001b[0m \u001b[31m11.9 MB/s\u001b[0m eta \u001b[36m0:00:00\u001b[0m\n",
            "\u001b[?25hRequirement already satisfied: Pillow>=7.1.2 in /usr/local/lib/python3.10/dist-packages (from roboflow) (9.4.0)\n",
            "Requirement already satisfied: python-dateutil in /usr/local/lib/python3.10/dist-packages (from roboflow) (2.8.2)\n",
            "Collecting python-dotenv (from roboflow)\n",
            "  Downloading python_dotenv-1.0.1-py3-none-any.whl (19 kB)\n",
            "Requirement already satisfied: requests in /usr/local/lib/python3.10/dist-packages (from roboflow) (2.31.0)\n",
            "Requirement already satisfied: six in /usr/local/lib/python3.10/dist-packages (from roboflow) (1.16.0)\n",
            "Collecting supervision (from roboflow)\n",
            "  Downloading supervision-0.18.0-py3-none-any.whl (86 kB)\n",
            "\u001b[2K     \u001b[90m━━━━━━━━━━━━━━━━━━━━━━━━━━━━━━━━━━━━━━━━\u001b[0m \u001b[32m86.7/86.7 kB\u001b[0m \u001b[31m11.6 MB/s\u001b[0m eta \u001b[36m0:00:00\u001b[0m\n",
            "\u001b[?25hRequirement already satisfied: urllib3>=1.26.6 in /usr/local/lib/python3.10/dist-packages (from roboflow) (2.0.7)\n",
            "Requirement already satisfied: tqdm>=4.41.0 in /usr/local/lib/python3.10/dist-packages (from roboflow) (4.66.2)\n",
            "Requirement already satisfied: PyYAML>=5.3.1 in /usr/local/lib/python3.10/dist-packages (from roboflow) (6.0.1)\n",
            "Collecting requests-toolbelt (from roboflow)\n",
            "  Downloading requests_toolbelt-1.0.0-py2.py3-none-any.whl (54 kB)\n",
            "\u001b[2K     \u001b[90m━━━━━━━━━━━━━━━━━━━━━━━━━━━━━━━━━━━━━━━━\u001b[0m \u001b[32m54.5/54.5 kB\u001b[0m \u001b[31m7.9 MB/s\u001b[0m eta \u001b[36m0:00:00\u001b[0m\n",
            "\u001b[?25hCollecting python-magic (from roboflow)\n",
            "  Downloading python_magic-0.4.27-py2.py3-none-any.whl (13 kB)\n",
            "Requirement already satisfied: contourpy>=1.0.1 in /usr/local/lib/python3.10/dist-packages (from matplotlib->roboflow) (1.2.0)\n",
            "Requirement already satisfied: fonttools>=4.22.0 in /usr/local/lib/python3.10/dist-packages (from matplotlib->roboflow) (4.49.0)\n",
            "Requirement already satisfied: packaging>=20.0 in /usr/local/lib/python3.10/dist-packages (from matplotlib->roboflow) (23.2)\n",
            "Requirement already satisfied: pyparsing>=2.3.1 in /usr/local/lib/python3.10/dist-packages (from matplotlib->roboflow) (3.1.1)\n",
            "Requirement already satisfied: charset-normalizer<4,>=2 in /usr/local/lib/python3.10/dist-packages (from requests->roboflow) (3.3.2)\n",
            "Requirement already satisfied: defusedxml<0.8.0,>=0.7.1 in /usr/local/lib/python3.10/dist-packages (from supervision->roboflow) (0.7.1)\n",
            "Requirement already satisfied: scipy<2.0.0,>=1.10.0 in /usr/local/lib/python3.10/dist-packages (from supervision->roboflow) (1.11.4)\n",
            "Installing collected packages: python-magic, python-dotenv, opencv-python-headless, idna, cycler, chardet, certifi, supervision, requests-toolbelt, roboflow\n",
            "  Attempting uninstall: opencv-python-headless\n",
            "    Found existing installation: opencv-python-headless 4.9.0.80\n",
            "    Uninstalling opencv-python-headless-4.9.0.80:\n",
            "      Successfully uninstalled opencv-python-headless-4.9.0.80\n",
            "  Attempting uninstall: idna\n",
            "    Found existing installation: idna 3.6\n",
            "    Uninstalling idna-3.6:\n",
            "      Successfully uninstalled idna-3.6\n",
            "  Attempting uninstall: cycler\n",
            "    Found existing installation: cycler 0.12.1\n",
            "    Uninstalling cycler-0.12.1:\n",
            "      Successfully uninstalled cycler-0.12.1\n",
            "  Attempting uninstall: chardet\n",
            "    Found existing installation: chardet 5.2.0\n",
            "    Uninstalling chardet-5.2.0:\n",
            "      Successfully uninstalled chardet-5.2.0\n",
            "  Attempting uninstall: certifi\n",
            "    Found existing installation: certifi 2024.2.2\n",
            "    Uninstalling certifi-2024.2.2:\n",
            "      Successfully uninstalled certifi-2024.2.2\n",
            "Successfully installed certifi-2023.7.22 chardet-4.0.0 cycler-0.10.0 idna-2.10 opencv-python-headless-4.8.0.74 python-dotenv-1.0.1 python-magic-0.4.27 requests-toolbelt-1.0.0 roboflow-1.1.21 supervision-0.18.0\n"
          ]
        },
        {
          "output_type": "display_data",
          "data": {
            "application/vnd.colab-display-data+json": {
              "pip_warning": {
                "packages": [
                  "certifi",
                  "chardet",
                  "cv2",
                  "cycler",
                  "idna"
                ]
              },
              "id": "b6ae4567abd44881ab7150530eccee24"
            }
          },
          "metadata": {}
        },
        {
          "output_type": "stream",
          "name": "stdout",
          "text": [
            "loading Roboflow workspace...\n",
            "loading Roboflow project...\n"
          ]
        },
        {
          "output_type": "stream",
          "name": "stderr",
          "text": [
            "Downloading Dataset Version Zip in Product_classification-2 to folder:: 100%|██████████| 11335/11335 [00:00<00:00, 23179.89it/s]"
          ]
        },
        {
          "output_type": "stream",
          "name": "stdout",
          "text": [
            "\n"
          ]
        },
        {
          "output_type": "stream",
          "name": "stderr",
          "text": [
            "\n",
            "Extracting Dataset Version Zip to Product_classification-2 in folder:: 100%|██████████| 5253/5253 [00:01<00:00, 4255.04it/s]\n"
          ]
        }
      ]
    },
    {
      "cell_type": "code",
      "source": [
        "dataset_name = dataset.location.split(os.sep)[-1]\n",
        "os.environ[\"DATASET_NAME\"] = dataset_name"
      ],
      "metadata": {
        "id": "YMST-zBfEmT4"
      },
      "execution_count": null,
      "outputs": []
    },
    {
      "cell_type": "code",
      "source": [
        "%cd ../yolov5\n",
        "!python classify/train.py --model yolov5s-cls.pt --data $DATASET_NAME --epochs 100 --img 128 --pretrained weights/yolov5s-cls.pt"
      ],
      "metadata": {
        "colab": {
          "base_uri": "https://localhost:8080/"
        },
        "id": "1YzBuEG6EvS3",
        "outputId": "56d9b52c-3cac-474d-bc90-19cf18e738b1"
      },
      "execution_count": 8,
      "outputs": [
        {
          "output_type": "stream",
          "name": "stdout",
          "text": [
            "/content/yolov5\n",
            "2024-03-06 10:57:30.933673: E external/local_xla/xla/stream_executor/cuda/cuda_dnn.cc:9261] Unable to register cuDNN factory: Attempting to register factory for plugin cuDNN when one has already been registered\n",
            "2024-03-06 10:57:30.933736: E external/local_xla/xla/stream_executor/cuda/cuda_fft.cc:607] Unable to register cuFFT factory: Attempting to register factory for plugin cuFFT when one has already been registered\n",
            "2024-03-06 10:57:30.935132: E external/local_xla/xla/stream_executor/cuda/cuda_blas.cc:1515] Unable to register cuBLAS factory: Attempting to register factory for plugin cuBLAS when one has already been registered\n",
            "\u001b[34m\u001b[1mclassify/train: \u001b[0mmodel=yolov5s-cls.pt, data=Product_classification-2, epochs=100, batch_size=64, imgsz=128, nosave=False, cache=None, device=, workers=8, project=runs/train-cls, name=exp, exist_ok=False, pretrained=weights/yolov5s-cls.pt, optimizer=Adam, lr0=0.001, decay=5e-05, label_smoothing=0.1, cutoff=None, dropout=None, verbose=False, seed=0, local_rank=-1\n",
            "\u001b[34m\u001b[1mgithub: \u001b[0mup to date with https://github.com/ultralytics/yolov5 ✅\n",
            "YOLOv5 🚀 v7.0-290-gb2ffe055 Python-3.10.12 torch-2.1.0+cu121 CPU\n",
            "\n",
            "\u001b[34m\u001b[1mTensorBoard: \u001b[0mStart with 'tensorboard --logdir runs/train-cls', view at http://localhost:6006/\n",
            "\u001b[34m\u001b[1malbumentations: \u001b[0mRandomResizedCrop(p=1.0, height=128, width=128, scale=(0.08, 1.0), ratio=(0.75, 1.3333333333333333), interpolation=1), HorizontalFlip(p=0.5), ColorJitter(p=0.5, brightness=[0.6, 1.4], contrast=[0.6, 1.4], saturation=[0.6, 1.4], hue=[0, 0]), Normalize(p=1.0, mean=(0.485, 0.456, 0.406), std=(0.229, 0.224, 0.225), max_pixel_value=255.0), ToTensorV2(always_apply=True, p=1.0, transpose_mask=False)\n",
            "Model summary: 149 layers, 4176323 parameters, 4176323 gradients, 10.5 GFLOPs\n",
            "\u001b[34m\u001b[1moptimizer:\u001b[0m Adam(lr=0.001) with parameter groups 32 weight(decay=0.0), 33 weight(decay=5e-05), 33 bias\n",
            "Image sizes 128 train, 128 test\n",
            "Using 1 dataloader workers\n",
            "Logging results to \u001b[1mruns/train-cls/exp3\u001b[0m\n",
            "Starting yolov5s-cls.pt training on Product_classification-2 dataset with 3 classes for 100 epochs...\n",
            "\n",
            "     Epoch   GPU_mem  train_loss   test_loss    top1_acc    top5_acc\n",
            "     1/100        0G       0.737       0.638       0.821           1: 100% 76/76 [03:04<00:00,  2.42s/it]\n",
            "     2/100        0G       0.602       0.733       0.766           1: 100% 76/76 [02:59<00:00,  2.37s/it]\n",
            "     3/100        0G        0.58       0.856       0.756           1: 100% 76/76 [02:59<00:00,  2.37s/it]\n",
            "     4/100        0G       0.565       0.513       0.866           1: 100% 76/76 [03:00<00:00,  2.37s/it]\n",
            "     5/100        0G       0.567       0.592       0.846           1: 100% 76/76 [02:59<00:00,  2.36s/it]\n",
            "     6/100        0G       0.569       0.531       0.886           1: 100% 76/76 [03:03<00:00,  2.42s/it]\n",
            "     7/100        0G       0.551       0.468       0.905           1: 100% 76/76 [03:07<00:00,  2.46s/it]\n",
            "     8/100        0G        0.54       0.499       0.891           1: 100% 76/76 [03:07<00:00,  2.47s/it]\n",
            "     9/100        0G        0.54       0.441       0.915           1: 100% 76/76 [03:03<00:00,  2.42s/it]\n",
            "    10/100        0G       0.547        0.46       0.886           1: 100% 76/76 [02:59<00:00,  2.36s/it]\n",
            "    11/100        0G       0.537       0.419       0.925           1: 100% 76/76 [02:59<00:00,  2.36s/it]\n",
            "    12/100        0G       0.535       0.399        0.95           1: 100% 76/76 [03:01<00:00,  2.38s/it]\n",
            "    13/100        0G       0.523       0.473        0.91           1: 100% 76/76 [03:00<00:00,  2.38s/it]\n",
            "    14/100        0G       0.521       0.456        0.93           1: 100% 76/76 [03:00<00:00,  2.38s/it]\n",
            "    15/100        0G       0.525       0.441       0.935           1: 100% 76/76 [03:00<00:00,  2.37s/it]\n",
            "    16/100        0G       0.516       0.395       0.955           1: 100% 76/76 [03:01<00:00,  2.39s/it]\n",
            "    17/100        0G       0.503       0.405       0.945           1: 100% 76/76 [03:01<00:00,  2.39s/it]\n",
            "    18/100        0G       0.511       0.586       0.836           1: 100% 76/76 [02:59<00:00,  2.36s/it]\n",
            "    19/100        0G       0.516       0.405        0.95           1: 100% 76/76 [03:00<00:00,  2.38s/it]\n",
            "    20/100        0G       0.502       0.451       0.935           1: 100% 76/76 [03:01<00:00,  2.39s/it]\n",
            "    21/100        0G       0.491       0.419        0.93           1: 100% 76/76 [03:00<00:00,  2.37s/it]\n",
            "    22/100        0G       0.499       0.409        0.96           1: 100% 76/76 [03:02<00:00,  2.40s/it]\n",
            "    23/100        0G       0.496        0.41       0.955           1: 100% 76/76 [03:00<00:00,  2.38s/it]\n",
            "    24/100        0G       0.492       0.381       0.965           1: 100% 76/76 [02:58<00:00,  2.35s/it]\n",
            "    25/100        0G       0.489       0.394       0.945           1: 100% 76/76 [03:00<00:00,  2.37s/it]\n",
            "    26/100        0G       0.476       0.639       0.831           1: 100% 76/76 [03:00<00:00,  2.38s/it]\n",
            "    27/100        0G       0.479       0.364       0.965           1: 100% 76/76 [03:01<00:00,  2.39s/it]\n",
            "    28/100        0G       0.474       0.557       0.856           1: 100% 76/76 [03:01<00:00,  2.39s/it]\n",
            "    29/100        0G       0.481       0.763       0.766           1: 100% 76/76 [03:03<00:00,  2.41s/it]\n",
            "    30/100        0G       0.479       0.355        0.98           1: 100% 76/76 [03:00<00:00,  2.38s/it]\n",
            "    31/100        0G       0.474       0.381       0.965           1: 100% 76/76 [03:00<00:00,  2.37s/it]\n",
            "    32/100        0G       0.467       0.365       0.965           1: 100% 76/76 [03:01<00:00,  2.38s/it]\n",
            "    33/100        0G       0.471       0.376       0.965           1: 100% 76/76 [02:58<00:00,  2.35s/it]\n",
            "    34/100        0G       0.463       0.365        0.97           1: 100% 76/76 [03:01<00:00,  2.39s/it]\n",
            "    35/100        0G       0.471       0.388       0.955           1: 100% 76/76 [03:01<00:00,  2.38s/it]\n",
            "    36/100        0G       0.468       0.455        0.94           1: 100% 76/76 [03:00<00:00,  2.37s/it]\n",
            "    37/100        0G       0.458       0.387       0.965           1: 100% 76/76 [02:59<00:00,  2.37s/it]\n",
            "    38/100        0G       0.461       0.397       0.975           1: 100% 76/76 [03:00<00:00,  2.38s/it]\n",
            "    39/100        0G       0.467       0.378        0.96           1: 100% 76/76 [03:00<00:00,  2.37s/it]\n",
            "    40/100        0G       0.456       0.399        0.96           1: 100% 76/76 [03:02<00:00,  2.40s/it]\n",
            "    41/100        0G       0.457       0.367        0.97           1: 100% 76/76 [03:01<00:00,  2.39s/it]\n",
            "    42/100        0G       0.458       0.362        0.97           1: 100% 76/76 [02:59<00:00,  2.36s/it]\n",
            "    43/100        0G       0.447        0.46       0.915           1: 100% 76/76 [03:01<00:00,  2.38s/it]\n",
            "    44/100        0G       0.459       0.376        0.96           1: 100% 76/76 [03:01<00:00,  2.39s/it]\n",
            "    45/100        0G       0.457       0.371        0.96           1: 100% 76/76 [03:01<00:00,  2.39s/it]\n",
            "    46/100        0G       0.447       0.386        0.95           1: 100% 76/76 [02:59<00:00,  2.36s/it]\n",
            "    47/100        0G       0.455         0.4        0.96           1: 100% 76/76 [02:59<00:00,  2.37s/it]\n",
            "    48/100        0G       0.446       0.355       0.975           1: 100% 76/76 [03:00<00:00,  2.37s/it]\n",
            "    49/100        0G       0.452       0.381       0.965           1: 100% 76/76 [03:00<00:00,  2.37s/it]\n",
            "    50/100        0G       0.442       0.378        0.97           1: 100% 76/76 [03:03<00:00,  2.41s/it]\n",
            "    51/100        0G       0.441       0.361        0.97           1: 100% 76/76 [03:00<00:00,  2.38s/it]\n",
            "    52/100        0G       0.445       0.415       0.955           1: 100% 76/76 [02:59<00:00,  2.36s/it]\n",
            "    53/100        0G       0.448       0.362       0.965           1: 100% 76/76 [03:00<00:00,  2.37s/it]\n",
            "    54/100        0G       0.436       0.357        0.97           1: 100% 76/76 [03:01<00:00,  2.38s/it]\n",
            "    55/100        0G       0.432       0.366       0.955           1: 100% 76/76 [03:00<00:00,  2.38s/it]\n",
            "    56/100        0G       0.444       0.417       0.945           1: 100% 76/76 [03:00<00:00,  2.37s/it]\n",
            "    57/100        0G       0.438       0.368        0.97           1: 100% 76/76 [03:00<00:00,  2.37s/it]\n",
            "    58/100        0G       0.434       0.369       0.965           1: 100% 76/76 [03:00<00:00,  2.37s/it]\n",
            "    59/100        0G       0.431       0.366        0.96           1: 100% 76/76 [02:59<00:00,  2.36s/it]\n",
            "    60/100        0G       0.433       0.367       0.965           1: 100% 76/76 [03:00<00:00,  2.37s/it]\n",
            "    61/100        0G       0.429       0.392       0.965           1: 100% 76/76 [02:58<00:00,  2.35s/it]\n",
            "    62/100        0G       0.442       0.357       0.975           1: 100% 76/76 [02:58<00:00,  2.35s/it]\n",
            "    63/100        0G       0.428       0.386       0.965           1: 100% 76/76 [02:58<00:00,  2.35s/it]\n",
            "    64/100        0G       0.429       0.361        0.97           1: 100% 76/76 [03:00<00:00,  2.37s/it]\n",
            "    65/100        0G       0.427       0.342        0.97           1: 100% 76/76 [02:59<00:00,  2.36s/it]\n",
            "    66/100        0G       0.427       0.385       0.965           1: 100% 76/76 [03:02<00:00,  2.40s/it]\n",
            "    67/100        0G       0.426       0.379       0.955           1: 100% 76/76 [03:03<00:00,  2.42s/it]\n",
            "    68/100        0G       0.427       0.361        0.97           1: 100% 76/76 [03:02<00:00,  2.40s/it]\n",
            "    69/100        0G       0.435       0.369       0.965           1: 100% 76/76 [03:04<00:00,  2.43s/it]\n",
            "    70/100        0G       0.427       0.356        0.96           1: 100% 76/76 [03:02<00:00,  2.40s/it]\n",
            "    71/100        0G        0.42       0.373        0.97           1: 100% 76/76 [03:03<00:00,  2.42s/it]\n",
            "    72/100        0G       0.425       0.356        0.97           1: 100% 76/76 [02:59<00:00,  2.37s/it]\n",
            "    73/100        0G       0.422        0.36       0.965           1: 100% 76/76 [02:58<00:00,  2.35s/it]\n",
            "    74/100        0G       0.414        0.34        0.98           1: 100% 76/76 [03:01<00:00,  2.38s/it]\n",
            "    75/100        0G       0.427       0.353        0.97           1: 100% 76/76 [03:00<00:00,  2.37s/it]\n",
            "    76/100        0G       0.417        0.35       0.975           1: 100% 76/76 [02:59<00:00,  2.36s/it]\n",
            "    77/100        0G       0.417       0.343        0.98           1: 100% 76/76 [02:58<00:00,  2.35s/it]\n",
            "    78/100        0G       0.414       0.341       0.975           1: 100% 76/76 [02:59<00:00,  2.37s/it]\n",
            "    79/100        0G       0.415       0.341       0.975           1: 100% 76/76 [02:58<00:00,  2.35s/it]\n",
            "    80/100        0G       0.409       0.345       0.975           1: 100% 76/76 [02:59<00:00,  2.36s/it]\n",
            "    81/100        0G       0.418       0.341       0.985           1: 100% 76/76 [03:00<00:00,  2.38s/it]\n",
            "    82/100        0G       0.413       0.342       0.975           1: 100% 76/76 [02:59<00:00,  2.36s/it]\n",
            "    83/100        0G       0.413       0.335        0.98           1: 100% 76/76 [03:01<00:00,  2.39s/it]\n",
            "    84/100        0G       0.412       0.336       0.975           1: 100% 76/76 [02:59<00:00,  2.36s/it]\n",
            "    85/100        0G       0.403       0.344       0.975           1: 100% 76/76 [03:00<00:00,  2.37s/it]\n",
            "    86/100        0G       0.404       0.346       0.975           1: 100% 76/76 [02:59<00:00,  2.36s/it]\n",
            "    87/100        0G       0.411       0.352        0.97           1: 100% 76/76 [03:01<00:00,  2.39s/it]\n",
            "    88/100        0G         0.4       0.354        0.97           1: 100% 76/76 [03:01<00:00,  2.39s/it]\n",
            "    89/100        0G       0.406       0.333        0.98           1: 100% 76/76 [03:02<00:00,  2.40s/it]\n",
            "    90/100        0G       0.399        0.35       0.975           1: 100% 76/76 [03:00<00:00,  2.37s/it]\n",
            "    91/100        0G       0.397       0.341        0.97           1: 100% 76/76 [03:00<00:00,  2.38s/it]\n",
            "    92/100        0G       0.399       0.349        0.97           1: 100% 76/76 [03:00<00:00,  2.37s/it]\n",
            "    93/100        0G       0.408       0.342       0.975           1: 100% 76/76 [03:02<00:00,  2.40s/it]\n",
            "    94/100        0G       0.398       0.346        0.97           1: 100% 76/76 [03:01<00:00,  2.39s/it]\n",
            "    95/100        0G       0.401        0.34        0.98           1: 100% 76/76 [02:59<00:00,  2.37s/it]\n",
            "    96/100        0G       0.395       0.336        0.98           1: 100% 76/76 [03:01<00:00,  2.39s/it]\n",
            "    97/100        0G       0.394       0.338        0.98           1: 100% 76/76 [02:59<00:00,  2.36s/it]\n",
            "    98/100        0G       0.391       0.348        0.98           1: 100% 76/76 [03:00<00:00,  2.38s/it]\n",
            "    99/100        0G       0.385        0.33        0.98           1: 100% 76/76 [03:02<00:00,  2.40s/it]\n",
            "   100/100        0G       0.396        0.34        0.98           1: 100% 76/76 [03:02<00:00,  2.40s/it]\n",
            "\n",
            "Training complete (5.027 hours)\n",
            "Results saved to \u001b[1mruns/train-cls/exp3\u001b[0m\n",
            "Predict:         python classify/predict.py --weights runs/train-cls/exp3/weights/best.pt --source im.jpg\n",
            "Validate:        python classify/val.py --weights runs/train-cls/exp3/weights/best.pt --data /content/datasets/Product_classification-2\n",
            "Export:          python export.py --weights runs/train-cls/exp3/weights/best.pt --include onnx\n",
            "PyTorch Hub:     model = torch.hub.load('ultralytics/yolov5', 'custom', 'runs/train-cls/exp3/weights/best.pt')\n",
            "Visualize:       https://netron.app\n",
            "\n"
          ]
        }
      ]
    },
    {
      "cell_type": "code",
      "source": [
        "!python classify/predict.py --weights runs/train-cls/exp3/weights/best.pt --source ../test1.jpg"
      ],
      "metadata": {
        "id": "ej1AbGuaExFk",
        "colab": {
          "base_uri": "https://localhost:8080/"
        },
        "outputId": "3c0fc2b1-5cbd-432f-e8e3-fa4fd87c1d54"
      },
      "execution_count": 12,
      "outputs": [
        {
          "output_type": "stream",
          "name": "stdout",
          "text": [
            "\u001b[34m\u001b[1mclassify/predict: \u001b[0mweights=['runs/train-cls/exp3/weights/best.pt'], source=../test1.jpg, data=data/coco128.yaml, imgsz=[224, 224], device=, view_img=False, save_txt=False, nosave=False, augment=False, visualize=False, update=False, project=runs/predict-cls, name=exp, exist_ok=False, half=False, dnn=False, vid_stride=1\n",
            "YOLOv5 🚀 v7.0-290-gb2ffe055 Python-3.10.12 torch-2.1.0+cu121 CPU\n",
            "\n",
            "Fusing layers... \n",
            "Model summary: 117 layers, 4170531 parameters, 0 gradients, 10.4 GFLOPs\n",
            "image 1/1 /content/test1.jpg: 224x224 Romano 0.88, X-Men 0.07, Unlabeled 0.05, 37.7ms\n",
            "Speed: 0.1ms pre-process, 37.7ms inference, 0.1ms NMS per image at shape (1, 3, 224, 224)\n",
            "Results saved to \u001b[1mruns/predict-cls/exp2\u001b[0m\n"
          ]
        }
      ]
    },
    {
      "cell_type": "code",
      "source": [
        "!python export.py --weights runs/train-cls/exp3/weights/best.pt --include onnx"
      ],
      "metadata": {
        "colab": {
          "base_uri": "https://localhost:8080/"
        },
        "id": "8yzX-PhNiYWs",
        "outputId": "ad2cf815-ac7f-45f1-eee3-f0d266c6847d"
      },
      "execution_count": 13,
      "outputs": [
        {
          "output_type": "stream",
          "name": "stdout",
          "text": [
            "\u001b[34m\u001b[1mexport: \u001b[0mdata=data/coco128.yaml, weights=['runs/train-cls/exp3/weights/best.pt'], imgsz=[640, 640], batch_size=1, device=cpu, half=False, inplace=False, keras=False, optimize=False, int8=False, per_tensor=False, dynamic=False, simplify=False, opset=17, verbose=False, workspace=4, nms=False, agnostic_nms=False, topk_per_class=100, topk_all=100, iou_thres=0.45, conf_thres=0.25, include=['onnx']\n",
            "YOLOv5 🚀 v7.0-290-gb2ffe055 Python-3.10.12 torch-2.1.0+cu121 CPU\n",
            "\n",
            "Fusing layers... \n",
            "Model summary: 117 layers, 4170531 parameters, 0 gradients, 10.4 GFLOPs\n",
            "\n",
            "\u001b[34m\u001b[1mPyTorch:\u001b[0m starting from runs/train-cls/exp3/weights/best.pt with output shape (1, 3) (8.1 MB)\n",
            "\u001b[31m\u001b[1mrequirements:\u001b[0m Ultralytics requirement ['onnx>=1.12.0'] not found, attempting AutoUpdate...\n",
            "Collecting onnx>=1.12.0\n",
            "  Downloading onnx-1.15.0-cp310-cp310-manylinux_2_17_x86_64.manylinux2014_x86_64.whl (15.7 MB)\n",
            "     ━━━━━━━━━━━━━━━━━━━━━━━━━━━━━━━━━━━━━━━━ 15.7/15.7 MB 185.6 MB/s eta 0:00:00\n",
            "Requirement already satisfied: numpy in /usr/local/lib/python3.10/dist-packages (from onnx>=1.12.0) (1.25.2)\n",
            "Requirement already satisfied: protobuf>=3.20.2 in /usr/local/lib/python3.10/dist-packages (from onnx>=1.12.0) (3.20.3)\n",
            "Installing collected packages: onnx\n",
            "Successfully installed onnx-1.15.0\n",
            "\n",
            "\u001b[31m\u001b[1mrequirements:\u001b[0m AutoUpdate success ✅ 10.4s, installed 1 package: ['onnx>=1.12.0']\n",
            "\u001b[31m\u001b[1mrequirements:\u001b[0m ⚠️ \u001b[1mRestart runtime or rerun command for updates to take effect\u001b[0m\n",
            "\n",
            "\n",
            "\u001b[34m\u001b[1mONNX:\u001b[0m starting export with onnx 1.15.0...\n",
            "\u001b[34m\u001b[1mONNX:\u001b[0m export success ✅ 11.0s, saved as runs/train-cls/exp3/weights/best.onnx (15.9 MB)\n",
            "\n",
            "Export complete (11.8s)\n",
            "Results saved to \u001b[1m/content/yolov5/runs/train-cls/exp3/weights\u001b[0m\n",
            "Detect:          python classify/predict.py --weights runs/train-cls/exp3/weights/best.onnx \n",
            "Validate:        python classify/val.py --weights runs/train-cls/exp3/weights/best.onnx \n",
            "PyTorch Hub:     model = torch.hub.load('ultralytics/yolov5', 'custom', 'runs/train-cls/exp3/weights/best.onnx')  # WARNING ⚠️ ClassificationModel not yet supported for PyTorch Hub AutoShape inference\n",
            "Visualize:       https://netron.app\n"
          ]
        }
      ]
    }
  ]
}